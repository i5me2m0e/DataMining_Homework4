{
 "cells": [
  {
   "cell_type": "code",
   "execution_count": null,
   "metadata": {},
   "outputs": [
    {
     "name": "stdout",
     "output_type": "stream",
     "text": [
      "Attempting to connect to the database...\n",
      "Connection successful!\n",
      "Query Results: [(2, 'LAX', 'DXB', datetime.datetime(2024, 12, 3, 23, 0), datetime.datetime(2024, 12, 4, 18, 30), 2, 'Scheduled', 104)]\n"
     ]
    }
   ],
   "source": [
    "import pandas as pd\n",
    "import numpy as np\n",
    "from sklearn.preprocessing import StandardScaler\n",
    "from sklearn.cluster import KMeans\n",
    "from sklearn.metrics import silhouette_score\n",
    "\n",
    "\n",
    "boston_df = pd.read_csv(r\"C:\\Users\\imeme\\Desktop\\python_work\\Boston.csv\")\n",
    "\n",
    "\n",
    "\n",
    "scaler = StandardScaler()\n",
    "X_scaled = scaler.fit_transform(boston_df)\n",
    "\n",
    "\n",
    "sil_scores = []\n",
    "k_range = range(2, 7)\n",
    "\n",
    "for k in k_range:\n",
    "    kmeans = KMeans(n_clusters=k, random_state=42)\n",
    "    labels = kmeans.fit_predict(X_scaled)\n",
    "    sil_scores.append(silhouette_score(X_scaled, labels))\n",
    "\n",
    "optimal_k = k_range[np.argmax(sil_scores)]\n",
    "print(f\"the best k is: {optimal_k}，The corresponding Silhouette score is: {max(sil_scores):.4f}\")\n",
    "\n",
    "\n",
    "kmeans = KMeans(n_clusters=optimal_k, random_state=42)\n",
    "labels = kmeans.fit_predict(X_scaled)\n",
    "\n",
    "\n",
    "boston_df['cluster'] = labels\n",
    "cluster_means = boston_df.groupby('cluster').mean()\n",
    "print(\"\\nThe mean value of the features for each cluster:\\n\", cluster_means)\n",
    "\n",
    "\n",
    "centroids = pd.DataFrame(scaler.inverse_transform(kmeans.cluster_centers_), columns=boston_df.columns[:-1])\n",
    "print(\"\\nKMeans center of mass coordinates:\\n\", centroids)\n"
   ]
  },
  {
   "cell_type": "code",
   "execution_count": null,
   "metadata": {},
   "outputs": [],
   "source": []
  }
 ],
 "metadata": {
  "kernelspec": {
   "display_name": "Python (new_env1)",
   "language": "python",
   "name": "new_env1"
  },
  "language_info": {
   "codemirror_mode": {
    "name": "ipython",
    "version": 3
   },
   "file_extension": ".py",
   "mimetype": "text/x-python",
   "name": "python",
   "nbconvert_exporter": "python",
   "pygments_lexer": "ipython3",
   "version": "3.8.20"
  }
 },
 "nbformat": 4,
 "nbformat_minor": 2
}
