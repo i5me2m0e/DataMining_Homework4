{
 "cells": [
  {
   "cell_type": "code",
   "execution_count": null,
   "metadata": {},
   "outputs": [
    {
     "name": "stdout",
     "output_type": "stream",
     "text": [
      "Attempting to connect to the database...\n",
      "Connection successful!\n",
      "Query Results: [(2, 'LAX', 'DXB', datetime.datetime(2024, 12, 3, 23, 0), datetime.datetime(2024, 12, 4, 18, 30), 2, 'Scheduled', 104)]\n"
     ]
    }
   ],
   "source": [
    "import pandas as pd\n",
    "from sklearn.cluster import AgglomerativeClustering\n",
    "from sklearn.impute import SimpleImputer\n",
    "from sklearn.preprocessing import StandardScaler\n",
    "import seaborn as sns\n",
    "import matplotlib.pyplot as plt\n",
    "\n",
    "\n",
    "column_names = ['mpg','cylinders','displacement','horsepower','weight',\n",
    "                'acceleration','model_year','origin','car_name']\n",
    "url = \"https://archive.ics.uci.edu/ml/machine-learning-databases/auto-mpg/auto-mpg.data\"\n",
    "\n",
    "df = pd.read_csv(url, names=column_names, delim_whitespace=True, na_values='?')\n",
    "\n",
    "\n",
    "features = ['mpg','displacement','horsepower','weight','acceleration']\n",
    "X = df[features]\n",
    "\n",
    "\n",
    "imputer = SimpleImputer(strategy='mean')\n",
    "X_imputed = imputer.fit_transform(X)\n",
    "\n",
    "\n",
    "scaler = StandardScaler()\n",
    "X_scaled = scaler.fit_transform(X_imputed)\n",
    "\n",
    "\n",
    "clustering = AgglomerativeClustering(n_clusters=3, linkage='average')\n",
    "labels = clustering.fit_predict(X_scaled)\n",
    "\n",
    "\n",
    "df['cluster'] = labels\n",
    "\n",
    "\n",
    "cluster_stats = df.groupby('cluster')[features].agg(['mean', 'var'])\n",
    "\n",
    "\n",
    "origin_stats = df.groupby('origin')[features].agg(['mean', 'var'])\n",
    "\n",
    "print(\"Mean and variance of each cluster：\\n\", cluster_stats)\n",
    "print(\"\\nMean and variance of Origin labels：\\n\", origin_stats)\n",
    "\n",
    "\n",
    "sns.pairplot(df, hue='cluster', vars=features)\n",
    "plt.show()\n"
   ]
  },
  {
   "cell_type": "code",
   "execution_count": null,
   "metadata": {},
   "outputs": [],
   "source": []
  }
 ],
 "metadata": {
  "kernelspec": {
   "display_name": "Python (new_env1)",
   "language": "python",
   "name": "new_env1"
  },
  "language_info": {
   "codemirror_mode": {
    "name": "ipython",
    "version": 3
   },
   "file_extension": ".py",
   "mimetype": "text/x-python",
   "name": "python",
   "nbconvert_exporter": "python",
   "pygments_lexer": "ipython3",
   "version": "3.8.20"
  }
 },
 "nbformat": 4,
 "nbformat_minor": 2
}
