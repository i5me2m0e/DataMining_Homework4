{
 "cells": [
  {
   "cell_type": "code",
   "execution_count": null,
   "metadata": {},
   "outputs": [
    {
     "name": "stdout",
     "output_type": "stream",
     "text": [
      "Attempting to connect to the database...\n",
      "Connection successful!\n",
      "Query Results: [(2, 'LAX', 'DXB', datetime.datetime(2024, 12, 3, 23, 0), datetime.datetime(2024, 12, 4, 18, 30), 2, 'Scheduled', 104)]\n"
     ]
    }
   ],
   "source": [
    "import pandas as pd\n",
    "from sklearn.preprocessing import StandardScaler\n",
    "from sklearn.datasets import load_wine\n",
    "from sklearn.metrics import homogeneity_score, completeness_score\n",
    "from sklearn.cluster import KMeans\n",
    "\n",
    "\n",
    "wine = load_wine()\n",
    "X = pd.DataFrame(wine.data, columns=wine.feature_names)\n",
    "y = wine.target\n",
    "\n",
    "\n",
    "X_scaled = StandardScaler().fit_transform(X)\n",
    "\n",
    "\n",
    "kmeans = KMeans(n_clusters=3, random_state=42)\n",
    "labels = kmeans.fit_predict(X_scaled)\n",
    "\n",
    "\n",
    "homogeneity = homogeneity_score(y, labels)\n",
    "completeness = completeness_score(y, labels)\n",
    "\n",
    "print(f\"Homogeneity Score: {homogeneity:.4f}\")\n",
    "print(f\"Completeness Score: {completeness:.4f}\")\n"
   ]
  },
  {
   "cell_type": "code",
   "execution_count": null,
   "metadata": {},
   "outputs": [],
   "source": []
  }
 ],
 "metadata": {
  "kernelspec": {
   "display_name": "Python (new_env1)",
   "language": "python",
   "name": "new_env1"
  },
  "language_info": {
   "codemirror_mode": {
    "name": "ipython",
    "version": 3
   },
   "file_extension": ".py",
   "mimetype": "text/x-python",
   "name": "python",
   "nbconvert_exporter": "python",
   "pygments_lexer": "ipython3",
   "version": "3.8.20"
  }
 },
 "nbformat": 4,
 "nbformat_minor": 2
}
